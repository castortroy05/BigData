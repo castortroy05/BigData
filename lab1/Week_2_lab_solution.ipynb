{
  "nbformat": 4,
  "nbformat_minor": 0,
  "metadata": {
    "colab": {
      "name": "Week 2 lab solution.ipynb",
      "provenance": []
    },
    "kernelspec": {
      "name": "python3",
      "display_name": "Python 3"
    },
    "language_info": {
      "name": "python"
    }
  },
  "cells": [
    {
      "cell_type": "markdown",
      "metadata": {
        "id": "75S4SKkyWERz"
      },
      "source": [
        "**Script_1**"
      ]
    },
    {
      "cell_type": "code",
      "metadata": {
        "id": "tziVmyRTWRQ5"
      },
      "source": [
        "def power(value, power):\n",
        "    result = 1\n",
        "    for i in range(0, power):\n",
        "        result = result * value\n",
        "    return result\n",
        "\n",
        "print(power(2,3))\n",
        "print(power(10,4))"
      ],
      "execution_count": null,
      "outputs": []
    },
    {
      "cell_type": "markdown",
      "metadata": {
        "id": "LyhIPdcMV55M"
      },
      "source": [
        "**Define Class Point**"
      ]
    },
    {
      "cell_type": "code",
      "metadata": {
        "id": "-BER6RztV3Fp"
      },
      "source": [
        "class Point:\n",
        "    def __init__(self,x,y):\n",
        "        self.x = x\n",
        "        self.y = y\n",
        "    def move(self, dx, dy):\n",
        "        self.x = self.x + dx\n",
        "        self.y = self.y + dy\n",
        "    def toString(self):\n",
        "        return \"(\" + str(self.x) + \" , \" + str(self.y) + \")\" "
      ],
      "execution_count": 2,
      "outputs": []
    },
    {
      "cell_type": "markdown",
      "metadata": {
        "id": "bIK0Hw6JWcmC"
      },
      "source": [
        "**Define Class Circle**"
      ]
    },
    {
      "cell_type": "code",
      "metadata": {
        "id": "OrLawH0tWKor"
      },
      "source": [
        "class Circle:\n",
        "    def __init__(self,centre,radius):\n",
        "        self.centre = centre\n",
        "        self.radius = radius\n",
        "\n",
        "    def area(self):\n",
        "        return 3.14 * self.radius * self.radius\n",
        "\n",
        "    def toString(self):\n",
        "        return \"Centre at \" + self.centre.toString() + \", radius=\" + str(self.radius)"
      ],
      "execution_count": 3,
      "outputs": []
    },
    {
      "cell_type": "markdown",
      "metadata": {
        "id": "HD4ayj-QWqKD"
      },
      "source": [
        "**Create instances and call their methods**"
      ]
    },
    {
      "cell_type": "code",
      "metadata": {
        "id": "e_ZY1_sBWvl6"
      },
      "source": [
        "pt = Point(1, 2)\n",
        "print(pt.toString())\n",
        "pt.move(10, 10)\n",
        "print(pt.toString())\n",
        "\n",
        "circ = Circle(pt,5)\n",
        "print(circ.toString())\n",
        "print(circ.area())\n",
        "print(circ.radius)\n",
        "\n",
        "circ.radius = 10\n",
        "print(circ.toString())\n",
        "print(circ.area())"
      ],
      "execution_count": null,
      "outputs": []
    },
    {
      "cell_type": "markdown",
      "metadata": {
        "id": "qAYRnIO5Xk4F"
      },
      "source": [
        "**Task 6**\n",
        "\n",
        "Task 6-1: the square function"
      ]
    },
    {
      "cell_type": "code",
      "metadata": {
        "id": "92n6c0lmXu9N"
      },
      "source": [
        "def square(value):\n",
        "  return value * value\n",
        "\n",
        "print(square(5.0))"
      ],
      "execution_count": null,
      "outputs": []
    },
    {
      "cell_type": "markdown",
      "metadata": {
        "id": "ocOPMGULXzGF"
      },
      "source": [
        "Task 6-2: the distance function"
      ]
    },
    {
      "cell_type": "code",
      "metadata": {
        "id": "L88eRR0jX3lf"
      },
      "source": [
        "# import the math module\n",
        "import math\n",
        "\n",
        "def distance(x1, y1, x2, y2):\n",
        "  return math.sqrt(square(x2-x1) + square(y2-y1))\n",
        "\n",
        "print(distance(0,0,1,1))"
      ],
      "execution_count": null,
      "outputs": []
    },
    {
      "cell_type": "markdown",
      "metadata": {
        "id": "QqW2s-SRX9ds"
      },
      "source": [
        "Task 6-3: the maximum function"
      ]
    },
    {
      "cell_type": "code",
      "metadata": {
        "id": "laJjW565YAVL"
      },
      "source": [
        "numbers = [4,7,3,2,6]\n",
        "\n",
        "def maximum(list):\n",
        "  result = 0\n",
        "  for i in list:\n",
        "    if i > result:\n",
        "      result = i\n",
        "  return result\n",
        "\n",
        "print(maximum(numbers))"
      ],
      "execution_count": null,
      "outputs": []
    }
  ]
}